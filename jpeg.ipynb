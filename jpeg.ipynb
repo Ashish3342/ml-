{
 "cells": [
  {
   "cell_type": "code",
   "execution_count": 1,
   "metadata": {},
   "outputs": [],
   "source": [
    "import cv2\n",
    "from pylab import *"
   ]
  },
  {
   "cell_type": "code",
   "execution_count": 2,
   "metadata": {},
   "outputs": [],
   "source": [
    "def show(im):\n",
    "     cv2.imshow(\"Image\",im)\n",
    "     cv2.waitKey(0)\n",
    "     cv2.destroyAllWindows()"
   ]
  },
  {
   "cell_type": "code",
   "execution_count": 3,
   "metadata": {},
   "outputs": [],
   "source": [
    "def imgPad(im):\n",
    "    rows,cols,ch=im.shape\n",
    "    listim=im.tolist()\n",
    "    lengthPad = 16-rows%16\n",
    "    widthPad = 16-cols%16\n",
    " \n",
    "    if(lengthPad<16):\n",
    "        for i in range(lengthPad):\n",
    "            listim.append(listim[-1])\n",
    "    larr=np.array(listim,dtype='int16')\n",
    "    listim=np.transpose(larr,(1,0,2)).tolist()\n",
    "    if(widthPad<16):\n",
    "        for i in range(widthPad):\n",
    "            listim.append(listim[-1])\n",
    "    larr=np.array(listim,dtype='uint8')\n",
    "    return np.transpose(larr,(1,0,2))"
   ]
  },
  {
   "cell_type": "code",
   "execution_count": 4,
   "metadata": {},
   "outputs": [],
   "source": [
    "def downsample(C):\n",
    "    C=C.astype('uint16')\n",
    "    Cout=np.zeros((8,8),dtype='int16')\n",
    "    for i in range(8):\n",
    "        for j in range(8):\n",
    "            Cout[i][j]=(C[2*i][2*j]+C[2*i+1][2*j]+C[2*i,2*j+1]+C[2*i+1][2*j+1])/4\n",
    "    return Cout\n",
    " \n",
    "def al(x):\n",
    "    if(x==0):\n",
    "        return 1.0/sqrt(2.0)\n",
    "    else:\n",
    "        return 1.0\n",
    " \n",
    "cosMat=np.zeros((8,8));\n",
    "def evalcos():\n",
    "    for i in range(8):\n",
    "        for j in range(8):\n",
    "            cosMat[i][j]=cos(i*pi*(2*j+1)/16.0)\n",
    " \n",
    "def singleGUV(g,u,v,inv=0):\n",
    "    G=0\n",
    "    for x in range(8):\n",
    "        for y in range(8):\n",
    "            if inv==0:\n",
    "                G+=0.25*al(u)*al(v)*g[x][y]*cosMat[u][x]*cosMat[v][y]\n",
    "            else:\n",
    "                G+=0.25*al(x)*al(y)*g[x][y]*cosMat[x][u]*cosMat[y][v]\n",
    "    return G\n",
    " \n",
    "def shift_128(subimg):\n",
    "     #first of all, the input array is a numpy array of type \"uint8\"\n",
    "    #this needs to be converted to int16 or else the shifting to center around 0 will fail\n",
    "    subimg = subimg.astype('int16')\n",
    "    subimg=subimg-128\n",
    "    return subimg\n",
    " \n",
    "#Function to perform a 2D DCT on the 8x8 images\n",
    "def DCT_8x8_2D(subimg,shift=1, inv=0):\n",
    "    if shift==1:\n",
    "        subimg=shift_128(subimg)\n",
    "    #now the 2D DCT can be obtained using the formula from en.wikipedia.org/wiki/JPEG\n",
    "    G = np.zeros((8,8),dtype='float')\n",
    "    for u in range(8):\n",
    "        for v in range(8):\n",
    "            #calculate G(u,v) as follows:\n",
    "            G[u][v]=singleGUV(subimg,u,v,inv)\n",
    "    return G\n"
   ]
  },
  {
   "cell_type": "code",
   "execution_count": 5,
   "metadata": {},
   "outputs": [],
   "source": [
    "def quantize_inv(G,quality=50):\n",
    "    s1=array([ 16,  11,  10,  16,  24,  40,  51,  61,  12,  12,  14,  19,  26,\n",
    "        58,  60,  55,  14,  13,  16,  24,  40,  57,  69,  56,  14,  17,\n",
    "        22,  29,  51,  87,  80,  62,  18,  22,  37,  56,  68, 109, 103,\n",
    "        77,  24,  35,  55,  64,  81, 104, 113,  92,  49,  64,  78,  87,\n",
    "       103, 121, 120, 101,  72,  92,  95,  98, 112, 100, 103,  99])\n",
    " \n",
    "    if(quality<50):\n",
    "        S=round(5000/float(quality))\n",
    "    else:\n",
    "        S=200-2*quality\n",
    " \n",
    "    Q = floor((S*s1+50)/100).reshape(8,8).astype(np.int16)\n",
    "    B = np.zeros((8,8),dtype='int16')\n",
    "    for i in range(8):\n",
    "        for j in range(8):\n",
    "            B[i][j]=round(G[i][j]/float(Q[i][j]))*Q[i][j]\n",
    "    return B.astype('int16')"
   ]
  },
  {
   "cell_type": "code",
   "execution_count": 6,
   "metadata": {},
   "outputs": [],
   "source": [
    "im=cv2.imread(\"2.jpg\")\n",
    "im=cv2.resize(im,(0,0),fx=0.5,fy=0.5)\n",
    "rows,cols,ch = im.shape\n",
    " \n",
    "#Convert the colour space from RGB to YCrCb\n",
    "YCrCb=cv2.cvtColor(im,cv2.COLOR_RGB2YCR_CB)\n",
    "Y=YCrCb[...,0]; Cr=YCrCb[...,1]; Cb=YCrCb[...,2];\n",
    " \n",
    "#Pad the image such that it consists of only 16x16 blocks\n",
    "YCrCb=imgPad(YCrCb)\n",
    "evalcos()       "
   ]
  },
  {
   "cell_type": "code",
   "execution_count": 7,
   "metadata": {},
   "outputs": [
    {
     "name": "stdout",
     "output_type": "stream",
     "text": [
      "288 400 3\n"
     ]
    }
   ],
   "source": [
    "vint=vectorize(round)\n",
    "#new set of rows,cols\n",
    "rows,cols,ch = YCrCb.shape\n",
    "print (rows,cols,ch)\n",
    "for row in range(0,rows,8):\n",
    "    for col in range(0,cols,8):\n",
    "        #block = YCrCb[row:row+16,col:col+16]\n",
    "        #Y = block[:,:,0]; Cb = block[:,:,1]; Cr = block[:,:,2]\n",
    "        YCrCb[row:row+8,col:col+8,0] = vint(DCT_8x8_2D(quantize_inv(DCT_8x8_2D(YCrCb[row:row+8,col:col+8,0]),10),0,1)+128)\n",
    "        YCrCb[row:row+8,col:col+8,1] = vint(DCT_8x8_2D(quantize_inv(DCT_8x8_2D(YCrCb[row:row+8,col:col+8,1]),10),0,1)+128)\n",
    "        YCrCb[row:row+8,col:col+8,2] = vint(DCT_8x8_2D(quantize_inv(DCT_8x8_2D(YCrCb[row:row+8,col:col+8,2]),10),0,1)+128)\n",
    "        #print row,col\n",
    " \n",
    "im1=np.zeros((rows,cols,ch),dtype=np.uint8)\n",
    "im1=cv2.cvtColor(YCrCb,cv2.COLOR_YCR_CB2RGB)\n",
    "show(im1)"
   ]
  },
  {
   "cell_type": "code",
   "execution_count": 13,
   "metadata": {},
   "outputs": [
    {
     "name": "stdout",
     "output_type": "stream",
     "text": [
      "(288, 400, 3)\n"
     ]
    },
    {
     "ename": "AttributeError",
     "evalue": "'float' object has no attribute 'jpg'",
     "output_type": "error",
     "traceback": [
      "\u001b[1;31m---------------------------------------------------------------------------\u001b[0m",
      "\u001b[1;31mAttributeError\u001b[0m                            Traceback (most recent call last)",
      "\u001b[1;32m<ipython-input-13-b65e5d214e32>\u001b[0m in \u001b[0;36m<module>\u001b[1;34m\u001b[0m\n\u001b[0;32m      1\u001b[0m \u001b[0mprint\u001b[0m\u001b[1;33m(\u001b[0m\u001b[0mim1\u001b[0m\u001b[1;33m.\u001b[0m\u001b[0mshape\u001b[0m\u001b[1;33m)\u001b[0m\u001b[1;33m\u001b[0m\u001b[1;33m\u001b[0m\u001b[0m\n\u001b[1;32m----> 2\u001b[1;33m \u001b[0mcv2\u001b[0m\u001b[1;33m.\u001b[0m\u001b[0mimwrite\u001b[0m\u001b[1;33m(\u001b[0m\u001b[1;36m2.0\u001b[0m\u001b[1;33m.\u001b[0m\u001b[0mjpg\u001b[0m\u001b[1;33m,\u001b[0m \u001b[0mim1\u001b[0m\u001b[1;33m)\u001b[0m\u001b[1;33m\u001b[0m\u001b[1;33m\u001b[0m\u001b[0m\n\u001b[0m",
      "\u001b[1;31mAttributeError\u001b[0m: 'float' object has no attribute 'jpg'"
     ]
    }
   ],
   "source": [
    "print(im1.shape)\n",
    "cv2.imwrite(2.0.jpg, im1)"
   ]
  },
  {
   "cell_type": "code",
   "execution_count": 15,
   "metadata": {},
   "outputs": [],
   "source": [
    "import numpy as np \n",
    "from PIL import Image as imm"
   ]
  },
  {
   "cell_type": "code",
   "execution_count": 17,
   "metadata": {},
   "outputs": [],
   "source": [
    "data = imm.fromarray(im1)"
   ]
  },
  {
   "cell_type": "code",
   "execution_count": 18,
   "metadata": {},
   "outputs": [],
   "source": [
    "data.save('2.com.jpg') "
   ]
  },
  {
   "cell_type": "code",
   "execution_count": 26,
   "metadata": {},
   "outputs": [],
   "source": [
    "data.show()"
   ]
  },
  {
   "cell_type": "code",
   "execution_count": 30,
   "metadata": {},
   "outputs": [
    {
     "ename": "NameError",
     "evalue": "name 'imagee' is not defined",
     "output_type": "error",
     "traceback": [
      "\u001b[1;31m---------------------------------------------------------------------------\u001b[0m",
      "\u001b[1;31mNameError\u001b[0m                                 Traceback (most recent call last)",
      "\u001b[1;32m<ipython-input-30-21dde74b66dd>\u001b[0m in \u001b[0;36m<module>\u001b[1;34m\u001b[0m\n\u001b[1;32m----> 1\u001b[1;33m \u001b[0mcv2\u001b[0m\u001b[1;33m.\u001b[0m\u001b[0mimwrite\u001b[0m\u001b[1;33m(\u001b[0m\u001b[1;34m'2.1.jpg'\u001b[0m\u001b[1;33m,\u001b[0m \u001b[0mimagee\u001b[0m\u001b[1;33m)\u001b[0m\u001b[1;33m\u001b[0m\u001b[1;33m\u001b[0m\u001b[0m\n\u001b[0m",
      "\u001b[1;31mNameError\u001b[0m: name 'imagee' is not defined"
     ]
    }
   ],
   "source": [
    "cv2.imwrite('2.1.jpg', im)"
   ]
  },
  {
   "cell_type": "code",
   "execution_count": 27,
   "metadata": {},
   "outputs": [],
   "source": [
    "imagee = cv2.imread('2.jpg') "
   ]
  },
  {
   "cell_type": "code",
   "execution_count": null,
   "metadata": {},
   "outputs": [],
   "source": []
  }
 ],
 "metadata": {
  "kernelspec": {
   "display_name": "Python 3",
   "language": "python",
   "name": "python3"
  },
  "language_info": {
   "codemirror_mode": {
    "name": "ipython",
    "version": 3
   },
   "file_extension": ".py",
   "mimetype": "text/x-python",
   "name": "python",
   "nbconvert_exporter": "python",
   "pygments_lexer": "ipython3",
   "version": "3.8.2"
  }
 },
 "nbformat": 4,
 "nbformat_minor": 4
}
