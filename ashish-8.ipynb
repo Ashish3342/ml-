{
 "cells": [
  {
   "cell_type": "markdown",
   "metadata": {},
   "source": [
    "<h1> Classification of images using CNN </h1>"
   ]
  },
  {
   "cell_type": "markdown",
   "metadata": {},
   "source": [
    "<h4>this project  classifies into following classes by using keras convolutional neural network</h4> <br><ol><li>Aeroplane</li><li>car</li><li>cat</li><li>dog</li><li>flower</li><li>fruit</li><li>motorbike</li><li>person</li></ol><br> \n",
    "\n"
   ]
  },
  {
   "cell_type": "code",
   "execution_count": 2,
   "metadata": {},
   "outputs": [
    {
     "name": "stderr",
     "output_type": "stream",
     "text": [
      "Using TensorFlow backend.\n"
     ]
    }
   ],
   "source": [
    "from keras.preprocessing.image import ImageDataGenerator"
   ]
  },
  {
   "cell_type": "markdown",
   "metadata": {},
   "source": [
    "we have made a folder named natural_images and there 8 folders respectively of different classes "
   ]
  },
  {
   "attachments": {
    "Screenshot%20%2840%29.png": {
     "image/png": "[encoded data removed]"
    }
   },
   "cell_type": "markdown",
   "metadata": {},
   "source": [
    "![Screenshot%20%2840%29.png](attachment:Screenshot%20%2840%29.png)"
   ]
  },
  {
   "cell_type": "markdown",
   "metadata": {},
   "source": [
    "and similarly an another folder test to validate <br>"
   ]
  },
  {
   "cell_type": "code",
   "execution_count": 6,
   "metadata": {},
   "outputs": [
    {
     "name": "stdout",
     "output_type": "stream",
     "text": [
      "Found 5423 images belonging to 8 classes.\n"
     ]
    }
   ],
   "source": [
    "train_x='natural_images'\n",
    "train_gen=ImageDataGenerator(rescale=1./255)\n",
    "trng=train_gen.flow_from_directory(train_x,target_size=(100,100),batch_size=20,class_mode='categorical')\n",
    "\n"
   ]
  },
  {
   "cell_type": "code",
   "execution_count": 7,
   "metadata": {},
   "outputs": [
    {
     "name": "stdout",
     "output_type": "stream",
     "text": [
      "Found 1476 images belonging to 8 classes.\n"
     ]
    }
   ],
   "source": [
    "test_x='test'\n",
    "train_gen=ImageDataGenerator(rescale=1./255)\n",
    "test=train_gen.flow_from_directory(test_x,target_size=(100,100),batch_size=20,class_mode='categorical')\n"
   ]
  },
  {
   "cell_type": "code",
   "execution_count": 9,
   "metadata": {},
   "outputs": [],
   "source": [
    "from keras import layers,models\n",
    "from keras.models import Sequential\n",
    "from keras.optimizers import SGD,RMSprop,Adam\n",
    "\n",
    "from keras.layers.core import Dense,Dropout,Activation,Flatten\n",
    "\n",
    "from keras.layers.convolutional import Conv2D,MaxPooling2D"
   ]
  },
  {
   "cell_type": "code",
   "execution_count": 10,
   "metadata": {},
   "outputs": [
    {
     "name": "stderr",
     "output_type": "stream",
     "text": [
      "c:\\users\\ashish kumar\\appdata\\local\\programs\\python\\python36\\lib\\site-packages\\ipykernel_launcher.py:2: UserWarning: Update your `Conv2D` call to the Keras 2 API: `Conv2D(32, (3, 3), input_shape=(100, 100,...)`\n",
      "  \n",
      "c:\\users\\ashish kumar\\appdata\\local\\programs\\python\\python36\\lib\\site-packages\\ipykernel_launcher.py:6: UserWarning: Update your `Conv2D` call to the Keras 2 API: `Conv2D(32, (3, 3))`\n",
      "  \n",
      "c:\\users\\ashish kumar\\appdata\\local\\programs\\python\\python36\\lib\\site-packages\\ipykernel_launcher.py:10: UserWarning: Update your `Conv2D` call to the Keras 2 API: `Conv2D(64, (3, 3))`\n",
      "  # Remove the CWD from sys.path while we load stuff.\n"
     ]
    }
   ],
   "source": [
    "models = Sequential()\n",
    "models.add(Conv2D(32, 3, 3, input_shape=(100, 100,3)))\n",
    "models.add(Activation('relu'))\n",
    "models.add(MaxPooling2D(pool_size=(2, 2)))\n",
    "\n",
    "models.add(Conv2D(32, 3, 3))\n",
    "models.add(Activation('relu'))\n",
    "models.add(MaxPooling2D(pool_size=(2, 2)))\n",
    "\n",
    "models.add(Conv2D(64, 3, 3))\n",
    "models.add(Activation('relu'))\n",
    "models.add(MaxPooling2D(pool_size=(2, 2)))\n",
    "\n",
    "models.add(Flatten())\n",
    "models.add(Dense(64))\n",
    "models.add(Activation('relu'))\n",
    "models.add(Dropout(0.5))\n",
    "models.add(Dense(8))\n",
    "models.add(Activation('softmax'))"
   ]
  },
  {
   "cell_type": "code",
   "execution_count": 11,
   "metadata": {},
   "outputs": [
    {
     "name": "stdout",
     "output_type": "stream",
     "text": [
      "_________________________________________________________________\n",
      "Layer (type)                 Output Shape              Param #   \n",
      "=================================================================\n",
      "conv2d_1 (Conv2D)            (None, 98, 98, 32)        896       \n",
      "_________________________________________________________________\n",
      "activation_1 (Activation)    (None, 98, 98, 32)        0         \n",
      "_________________________________________________________________\n",
      "max_pooling2d_1 (MaxPooling2 (None, 49, 49, 32)        0         \n",
      "_________________________________________________________________\n",
      "conv2d_2 (Conv2D)            (None, 47, 47, 32)        9248      \n",
      "_________________________________________________________________\n",
      "activation_2 (Activation)    (None, 47, 47, 32)        0         \n",
      "_________________________________________________________________\n",
      "max_pooling2d_2 (MaxPooling2 (None, 23, 23, 32)        0         \n",
      "_________________________________________________________________\n",
      "conv2d_3 (Conv2D)            (None, 21, 21, 64)        18496     \n",
      "_________________________________________________________________\n",
      "activation_3 (Activation)    (None, 21, 21, 64)        0         \n",
      "_________________________________________________________________\n",
      "max_pooling2d_3 (MaxPooling2 (None, 10, 10, 64)        0         \n",
      "_________________________________________________________________\n",
      "flatten_1 (Flatten)          (None, 6400)              0         \n",
      "_________________________________________________________________\n",
      "dense_1 (Dense)              (None, 64)                409664    \n",
      "_________________________________________________________________\n",
      "activation_4 (Activation)    (None, 64)                0         \n",
      "_________________________________________________________________\n",
      "dropout_1 (Dropout)          (None, 64)                0         \n",
      "_________________________________________________________________\n",
      "dense_2 (Dense)              (None, 8)                 520       \n",
      "_________________________________________________________________\n",
      "activation_5 (Activation)    (None, 8)                 0         \n",
      "=================================================================\n",
      "Total params: 438,824\n",
      "Trainable params: 438,824\n",
      "Non-trainable params: 0\n",
      "_________________________________________________________________\n"
     ]
    }
   ],
   "source": [
    "models.summary()"
   ]
  },
  {
   "cell_type": "code",
   "execution_count": 12,
   "metadata": {},
   "outputs": [],
   "source": [
    "models.compile(loss='categorical_crossentropy',optimizer='Adam',metrics=['accuracy'])"
   ]
  },
  {
   "cell_type": "code",
   "execution_count": 13,
   "metadata": {},
   "outputs": [
    {
     "name": "stdout",
     "output_type": "stream",
     "text": [
      "Epoch 1/10\n",
      "5423/5423 [==============================] - 2651s 489ms/step - loss: 0.2764 - acc: 0.8949 - val_loss: 0.2402 - val_acc: 0.9376\n",
      "Epoch 2/10\n",
      "5423/5423 [==============================] - 2523s 465ms/step - loss: 0.0684 - acc: 0.9740 - val_loss: 0.3376 - val_acc: 0.9370\n",
      "Epoch 3/10\n",
      "5423/5423 [==============================] - 2523s 465ms/step - loss: 0.0410 - acc: 0.9855 - val_loss: 0.3451 - val_acc: 0.9453\n",
      "Epoch 4/10\n",
      "5423/5423 [==============================] - 2535s 467ms/step - loss: 0.0341 - acc: 0.9882 - val_loss: 0.4050 - val_acc: 0.9358\n",
      "Epoch 5/10\n",
      "5423/5423 [==============================] - 2564s 473ms/step - loss: 0.0271 - acc: 0.9908 - val_loss: 0.4316 - val_acc: 0.9409\n",
      "Epoch 6/10\n",
      "5423/5423 [==============================] - 2518s 464ms/step - loss: 0.0271 - acc: 0.9909 - val_loss: 0.4836 - val_acc: 0.9288\n",
      "Epoch 7/10\n",
      "5423/5423 [==============================] - 2536s 468ms/step - loss: 0.0237 - acc: 0.9921 - val_loss: 0.4947 - val_acc: 0.9406\n",
      "Epoch 8/10\n",
      "5423/5423 [==============================] - 2533s 467ms/step - loss: 0.0214 - acc: 0.9931 - val_loss: 0.5601 - val_acc: 0.9390\n",
      "Epoch 9/10\n",
      "5423/5423 [==============================] - 2522s 465ms/step - loss: 0.0211 - acc: 0.9935 - val_loss: 0.5880 - val_acc: 0.9303\n",
      "Epoch 10/10\n",
      "5423/5423 [==============================] - 2530s 466ms/step - loss: 0.0202 - acc: 0.9939 - val_loss: 0.5309 - val_acc: 0.9410\n"
     ]
    },
    {
     "data": {
      "text/plain": [
       "<keras.callbacks.History at 0x2bbd6f51a90>"
      ]
     },
     "execution_count": 13,
     "metadata": {},
     "output_type": "execute_result"
    }
   ],
   "source": [
    "models.fit_generator(trng,epochs=10,steps_per_epoch=5423,validation_data=test,validation_steps=1476)"
   ]
  },
  {
   "cell_type": "code",
   "execution_count": 16,
   "metadata": {},
   "outputs": [],
   "source": [
    "models.save('classify-8_2.h5')"
   ]
  },
  {
   "cell_type": "code",
   "execution_count": 15,
   "metadata": {},
   "outputs": [
    {
     "data": {
      "text/plain": [
       "[0.5257601786742209, 0.9411617172531097]"
      ]
     },
     "execution_count": 15,
     "metadata": {},
     "output_type": "execute_result"
    }
   ],
   "source": [
    "models.evaluate_generator(test,1400)"
   ]
  },
  {
   "cell_type": "code",
   "execution_count": null,
   "metadata": {},
   "outputs": [],
   "source": []
  }
 ],
 "metadata": {
  "kernelspec": {
   "display_name": "Python 3",
   "language": "python",
   "name": "python3"
  },
  "language_info": {
   "codemirror_mode": {
    "name": "ipython",
    "version": 3
   },
   "file_extension": ".py",
   "mimetype": "text/x-python",
   "name": "python",
   "nbconvert_exporter": "python",
   "pygments_lexer": "ipython3",
   "version": "3.6.2"
  }
 },
 "nbformat": 4,
 "nbformat_minor": 2
}
