{
 "cells": [
  {
   "cell_type": "code",
   "execution_count": 1,
   "metadata": {},
   "outputs": [
    {
     "name": "stderr",
     "output_type": "stream",
     "text": [
      "Using TensorFlow backend.\n"
     ]
    }
   ],
   "source": [
    "from keras.preprocessing.image import ImageDataGenerator"
   ]
  },
  {
   "cell_type": "code",
   "execution_count": 70,
   "metadata": {},
   "outputs": [
    {
     "name": "stdout",
     "output_type": "stream",
     "text": [
      "Found 5423 images belonging to 8 classes.\n"
     ]
    }
   ],
   "source": [
    "train_x='natural_images'\n",
    "train_gen=ImageDataGenerator(rescale=1./255)\n",
    "trng=train_gen.flow_from_directory(train_x,target_size=(100,100),batch_size=20,class_mode='categorical')\n",
    "\n"
   ]
  },
  {
   "cell_type": "code",
   "execution_count": 71,
   "metadata": {},
   "outputs": [
    {
     "name": "stdout",
     "output_type": "stream",
     "text": [
      "Found 1476 images belonging to 8 classes.\n"
     ]
    }
   ],
   "source": [
    "train_t='test'\n",
    "train_gen=ImageDataGenerator(rescale=1./255)\n",
    "test=train_gen.flow_from_directory(train_t,target_size=(100,100),batch_size=20,class_mode='categorical')\n"
   ]
  },
  {
   "cell_type": "code",
   "execution_count": 79,
   "metadata": {},
   "outputs": [],
   "source": [
    "from keras import layers,models\n",
    "from keras.models import Sequential\n",
    "from keras.optimizers import SGD,RMSprop,Adam"
   ]
  },
  {
   "cell_type": "code",
   "execution_count": 20,
   "metadata": {},
   "outputs": [],
   "source": [
    "from keras.layers.core import Dense,Dropout,Activation,Flatten"
   ]
  },
  {
   "cell_type": "code",
   "execution_count": 15,
   "metadata": {},
   "outputs": [],
   "source": [
    "from keras.layers.convolutional import Conv2D,MaxPooling2D"
   ]
  },
  {
   "cell_type": "code",
   "execution_count": 81,
   "metadata": {},
   "outputs": [
    {
     "name": "stderr",
     "output_type": "stream",
     "text": [
      "c:\\users\\ashish kumar\\appdata\\local\\programs\\python\\python36\\lib\\site-packages\\ipykernel_launcher.py:2: UserWarning: Update your `Conv2D` call to the Keras 2 API: `Conv2D(32, (3, 3), input_shape=(100, 100,...)`\n",
      "  \n",
      "c:\\users\\ashish kumar\\appdata\\local\\programs\\python\\python36\\lib\\site-packages\\ipykernel_launcher.py:6: UserWarning: Update your `Conv2D` call to the Keras 2 API: `Conv2D(32, (3, 3))`\n",
      "  \n",
      "c:\\users\\ashish kumar\\appdata\\local\\programs\\python\\python36\\lib\\site-packages\\ipykernel_launcher.py:10: UserWarning: Update your `Conv2D` call to the Keras 2 API: `Conv2D(64, (3, 3))`\n",
      "  # Remove the CWD from sys.path while we load stuff.\n"
     ]
    }
   ],
   "source": [
    "models = Sequential()\n",
    "models.add(Conv2D(32, 3, 3, input_shape=(100, 100,3)))\n",
    "models.add(Activation('relu'))\n",
    "models.add(MaxPooling2D(pool_size=(2, 2)))\n",
    "\n",
    "models.add(Conv2D(32, 3, 3))\n",
    "models.add(Activation('relu'))\n",
    "models.add(MaxPooling2D(pool_size=(2, 2)))\n",
    "\n",
    "models.add(Conv2D(64, 3, 3))\n",
    "models.add(Activation('relu'))\n",
    "models.add(MaxPooling2D(pool_size=(2, 2)))\n",
    "\n",
    "models.add(Flatten())\n",
    "models.add(Dense(64))\n",
    "models.add(Activation('relu'))\n",
    "models.add(Dropout(0.5))\n",
    "models.add(Dense(8))\n",
    "models.add(Activation('sigmoid'))"
   ]
  },
  {
   "cell_type": "code",
   "execution_count": 82,
   "metadata": {},
   "outputs": [
    {
     "name": "stdout",
     "output_type": "stream",
     "text": [
      "_________________________________________________________________\n",
      "Layer (type)                 Output Shape              Param #   \n",
      "=================================================================\n",
      "conv2d_4 (Conv2D)            (None, 98, 98, 32)        896       \n",
      "_________________________________________________________________\n",
      "activation_8 (Activation)    (None, 98, 98, 32)        0         \n",
      "_________________________________________________________________\n",
      "max_pooling2d_5 (MaxPooling2 (None, 49, 49, 32)        0         \n",
      "_________________________________________________________________\n",
      "conv2d_5 (Conv2D)            (None, 47, 47, 32)        9248      \n",
      "_________________________________________________________________\n",
      "activation_9 (Activation)    (None, 47, 47, 32)        0         \n",
      "_________________________________________________________________\n",
      "max_pooling2d_6 (MaxPooling2 (None, 23, 23, 32)        0         \n",
      "_________________________________________________________________\n",
      "conv2d_6 (Conv2D)            (None, 21, 21, 64)        18496     \n",
      "_________________________________________________________________\n",
      "activation_10 (Activation)   (None, 21, 21, 64)        0         \n",
      "_________________________________________________________________\n",
      "max_pooling2d_7 (MaxPooling2 (None, 10, 10, 64)        0         \n",
      "_________________________________________________________________\n",
      "flatten_4 (Flatten)          (None, 6400)              0         \n",
      "_________________________________________________________________\n",
      "dense_7 (Dense)              (None, 64)                409664    \n",
      "_________________________________________________________________\n",
      "activation_11 (Activation)   (None, 64)                0         \n",
      "_________________________________________________________________\n",
      "dropout_7 (Dropout)          (None, 64)                0         \n",
      "_________________________________________________________________\n",
      "dense_8 (Dense)              (None, 8)                 520       \n",
      "_________________________________________________________________\n",
      "activation_12 (Activation)   (None, 8)                 0         \n",
      "=================================================================\n",
      "Total params: 438,824\n",
      "Trainable params: 438,824\n",
      "Non-trainable params: 0\n",
      "_________________________________________________________________\n"
     ]
    }
   ],
   "source": [
    "models.summary()"
   ]
  },
  {
   "cell_type": "code",
   "execution_count": 84,
   "metadata": {},
   "outputs": [],
   "source": [
    "models.compile(loss='categorical_crossentropy',optimizer='Adam',metrics=['accuracy'])"
   ]
  },
  {
   "cell_type": "code",
   "execution_count": 85,
   "metadata": {},
   "outputs": [
    {
     "name": "stdout",
     "output_type": "stream",
     "text": [
      "Epoch 1/10\n",
      "5423/5423 [==============================] - 2779s 512ms/step - loss: 0.3570 - acc: 0.8645 - val_loss: 0.2152 - val_acc: 0.9396\n",
      "Epoch 2/10\n",
      "5423/5423 [==============================] - 4173s 769ms/step - loss: 0.0859 - acc: 0.9670 - val_loss: 0.2838 - val_acc: 0.9503\n",
      "Epoch 3/10\n",
      "5423/5423 [==============================] - 4650s 857ms/step - loss: 0.0532 - acc: 0.9807 - val_loss: 0.3259 - val_acc: 0.9471\n",
      "Epoch 4/10\n",
      "5423/5423 [==============================] - 4542s 838ms/step - loss: 0.0400 - acc: 0.9856 - val_loss: 0.3383 - val_acc: 0.9451\n",
      "Epoch 5/10\n",
      "5423/5423 [==============================] - 2665s 491ms/step - loss: 0.0349 - acc: 0.9881 - val_loss: 0.4407 - val_acc: 0.9431\n",
      "Epoch 6/10\n",
      "5423/5423 [==============================] - 2522s 465ms/step - loss: 0.0284 - acc: 0.9900 - val_loss: 0.4794 - val_acc: 0.9397\n",
      "Epoch 7/10\n",
      "5423/5423 [==============================] - 2507s 462ms/step - loss: 0.0290 - acc: 0.9903 - val_loss: 0.4345 - val_acc: 0.9520\n",
      "Epoch 8/10\n",
      "5423/5423 [==============================] - 2509s 463ms/step - loss: 0.0257 - acc: 0.9918 - val_loss: 0.5272 - val_acc: 0.9435\n",
      "Epoch 9/10\n",
      "5423/5423 [==============================] - 2514s 464ms/step - loss: 0.0248 - acc: 0.9926 - val_loss: 0.5067 - val_acc: 0.9485\n",
      "Epoch 10/10\n",
      "5423/5423 [==============================] - 2504s 462ms/step - loss: 0.0255 - acc: 0.9928 - val_loss: 0.5440 - val_acc: 0.9447\n"
     ]
    },
    {
     "data": {
      "text/plain": [
       "<keras.callbacks.History at 0x15c9b423c50>"
      ]
     },
     "execution_count": 85,
     "metadata": {},
     "output_type": "execute_result"
    }
   ],
   "source": [
    "models.fit_generator(trng,epochs=10,steps_per_epoch=5423,validation_data=test,validation_steps=1400)"
   ]
  },
  {
   "cell_type": "code",
   "execution_count": 90,
   "metadata": {},
   "outputs": [],
   "source": [
    "models.save_weights('classify-8.h5')"
   ]
  },
  {
   "cell_type": "code",
   "execution_count": 91,
   "metadata": {},
   "outputs": [
    {
     "data": {
      "text/plain": [
       "[0.5451519305378036, 0.9447428658978165]"
      ]
     },
     "execution_count": 91,
     "metadata": {},
     "output_type": "execute_result"
    }
   ],
   "source": [
    "models.evaluate_generator(test,1400)"
   ]
  }
 ],
 "metadata": {
  "kernelspec": {
   "display_name": "Python 3",
   "language": "python",
   "name": "python3"
  },
  "language_info": {
   "codemirror_mode": {
    "name": "ipython",
    "version": 3
   },
   "file_extension": ".py",
   "mimetype": "text/x-python",
   "name": "python",
   "nbconvert_exporter": "python",
   "pygments_lexer": "ipython3",
   "version": "3.6.2"
  }
 },
 "nbformat": 4,
 "nbformat_minor": 2
}
